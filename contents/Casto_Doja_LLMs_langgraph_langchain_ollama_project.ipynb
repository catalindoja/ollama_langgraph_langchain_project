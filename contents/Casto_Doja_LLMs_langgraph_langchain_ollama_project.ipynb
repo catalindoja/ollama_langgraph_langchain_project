{
 "cells": [
  {
   "cell_type": "markdown",
   "id": "4f55ca4c-6e03-4fab-b34d-bebebab4c071",
   "metadata": {},
   "source": [
    "# First let's load the libraries and the model"
   ]
  },
  {
   "cell_type": "code",
   "execution_count": 186,
   "id": "8b419cf0-6bb6-4dae-820c-ad03800a78b2",
   "metadata": {},
   "outputs": [],
   "source": [
    "from langchain_community.llms import Ollama\n",
    "from langchain.memory import ConversationBufferWindowMemory\n",
    "from langchain.chains import ConversationChain\n",
    "from langchain_ollama import ChatOllama\n",
    "from typing import TypedDict, Annotated, Sequence\n",
    "import operator\n",
    "from langchain_core.messages import BaseMessage\n",
    "from langchain_core.tools import tool\n",
    "\n",
    "model = ChatOllama(\n",
    "    model = 'llama3.1',\n",
    "    temperature = 0,\n",
    ")"
   ]
  },
  {
   "cell_type": "markdown",
   "id": "4867a19a-9694-422f-bce5-992502e0703e",
   "metadata": {},
   "source": [
    "# We want to see if the LLM with tools can be used over a dataset and how well it can operate with said tools to accomplish a model benchmark\n",
    "\n",
    "We want to use a Google Play Store dataset for this project, where we will throw some sklearn models to be able to look for what model predicts the best over our dataset features.\n",
    "\n",
    "All of the project's files can be found at: https://github.com/catalindoja/ollama_langgraph_langchain_project"
   ]
  },
  {
   "cell_type": "code",
   "execution_count": 187,
   "id": "6679e310-fb8d-431c-9325-e1a69042ac79",
   "metadata": {},
   "outputs": [
    {
     "name": "stdout",
     "output_type": "stream",
     "text": [
      "                                                 App        Category  Rating  \\\n",
      "0     Photo Editor & Candy Camera & Grid & ScrapBook  ART_AND_DESIGN     4.1   \n",
      "1                                Coloring book moana  ART_AND_DESIGN     3.9   \n",
      "2  U Launcher Lite – FREE Live Cool Themes, Hide ...  ART_AND_DESIGN     4.7   \n",
      "3                              Sketch - Draw & Paint  ART_AND_DESIGN     4.5   \n",
      "4              Pixel Draw - Number Art Coloring Book  ART_AND_DESIGN     4.3   \n",
      "\n",
      "  Reviews  Size     Installs  Type Price Content Rating  \\\n",
      "0     159   19M      10,000+  Free     0       Everyone   \n",
      "1     967   14M     500,000+  Free     0       Everyone   \n",
      "2   87510  8.7M   5,000,000+  Free     0       Everyone   \n",
      "3  215644   25M  50,000,000+  Free     0           Teen   \n",
      "4     967  2.8M     100,000+  Free     0       Everyone   \n",
      "\n",
      "                      Genres      Last Updated         Current Ver  \\\n",
      "0               Art & Design   January 7, 2018               1.0.0   \n",
      "1  Art & Design;Pretend Play  January 15, 2018               2.0.0   \n",
      "2               Art & Design    August 1, 2018               1.2.4   \n",
      "3               Art & Design      June 8, 2018  Varies with device   \n",
      "4    Art & Design;Creativity     June 20, 2018                 1.1   \n",
      "\n",
      "    Android Ver  \n",
      "0  4.0.3 and up  \n",
      "1  4.0.3 and up  \n",
      "2  4.0.3 and up  \n",
      "3    4.2 and up  \n",
      "4    4.4 and up  \n"
     ]
    }
   ],
   "source": [
    "import pandas as pd\n",
    "import numpy as np\n",
    "import seaborn as sns\n",
    "import matplotlib.pyplot as plt\n",
    "from sklearn.model_selection import train_test_split, GridSearchCV\n",
    "from sklearn.linear_model import LinearRegression, Ridge, Lasso\n",
    "from sklearn.tree import DecisionTreeRegressor\n",
    "from sklearn.ensemble import RandomForestRegressor, GradientBoostingRegressor\n",
    "from sklearn.svm import SVR\n",
    "from sklearn.neighbors import KNeighborsRegressor\n",
    "from sklearn.metrics import mean_squared_error, mean_absolute_error, r2_score\n",
    "\n",
    "df = pd.read_csv(\"google_play_store_dataset.csv\")\n",
    "df_cleaned = df\n",
    "print(df.head())"
   ]
  },
  {
   "cell_type": "markdown",
   "id": "6ca45ffb-6ce7-4fcc-8968-214775f24e35",
   "metadata": {},
   "source": [
    "# Auxiliar functions that will help us clean the dataset using tool calling and the LLM Llama3.1\n",
    "\n",
    "To avoid issues we will need to define as global the dataframe.\n",
    "During the tool execution flow, we had a lot of issues with the variable \"df\" and \"df_cleaned\" not being recognized."
   ]
  },
  {
   "cell_type": "code",
   "execution_count": 188,
   "id": "c59dd1b1-92b1-4316-abbf-34f2a66ba22a",
   "metadata": {},
   "outputs": [],
   "source": [
    "def expand_genres():\n",
    "    global df\n",
    "    # Split the \"Genres\" column by ';' and expand into separate columns\n",
    "    genres_split = df['Genres'].str.split(';', expand=True)\n",
    "    \n",
    "    # Determine the maximum number of genres in any row\n",
    "    max_genres = genres_split.shape[1]\n",
    "    \n",
    "    # Create new column names and assign for the split genres\n",
    "    genres_split.columns = [f'Genre{i+1}' for i in range(max_genres)]\n",
    "    \n",
    "    # Merge the new genre columns back into the original dataframe\n",
    "    df = pd.concat([df, genres_split], axis=1)\n",
    "    \n",
    "    df.fillna('None', inplace=True)\n",
    "    df.drop('Genres', axis=1, inplace=True)\n",
    "\n",
    "def clean_size(size):\n",
    "    \"\"\"Convert sizes like '19M', '14k' to floats (MB).\"\"\"\n",
    "    if isinstance(size, str):\n",
    "        if 'M' in size:\n",
    "            return float(size.replace('M', ''))  # Return size in MB\n",
    "        elif 'k' in size:\n",
    "            return float(size.replace('k', '')) / 1024  # Convert kB to MB\n",
    "    return np.nan  # Handle non-convertible cases\n",
    "\n",
    "def clean_installs(installs):\n",
    "    \"\"\"Convert '10,000+' to int by removing commas and '+' sign.\"\"\"\n",
    "    if isinstance(installs, str):\n",
    "        # Remove commas and plus signs\n",
    "        installs = installs.replace(',', '').replace('+', '')\n",
    "        try:\n",
    "            return int(installs)  # Convert to integer\n",
    "        except ValueError:\n",
    "            return np.nan  # Return NaN for non-numeric entries like 'Free'\n",
    "    return np.nan\n",
    "\n",
    "def clean_price(price):\n",
    "    \"\"\"Convert price like '$0.99' to numeric (float).\"\"\"\n",
    "    if isinstance(price, str):\n",
    "        if price.lower() == 'free':\n",
    "            return 0.0\n",
    "\n",
    "        # Remove '$' and any commas\n",
    "        price = price.replace('$', '').replace(',', '')\n",
    "        try:\n",
    "            return float(price)  # Convert to float\n",
    "        except ValueError:\n",
    "            return np.nan  # Return NaN for non-numeric entries (e.g., 'Free')\n",
    "    return np.nan  # In case of invalid or missing data"
   ]
  },
  {
   "cell_type": "markdown",
   "id": "3ffed4a5-addd-41d1-8d9d-e858e121c742",
   "metadata": {},
   "source": [
    "# The definition of our tools\n",
    "\n",
    "To avoid issues we will need to define as global the dataframe.\n",
    "During the tool execution flow, we had a lot of issues with the variable \"df\" and \"df_cleaned\" not being recognized.\n",
    "\n",
    "There's a limit on the head of the dataframe of 10 to not go overboard with the prints sizes."
   ]
  },
  {
   "cell_type": "code",
   "execution_count": 189,
   "id": "e6b04e92-e4e5-4bdd-a775-a01eb885a52e",
   "metadata": {},
   "outputs": [],
   "source": [
    "from langchain_core.tools import tool\n",
    "\n",
    "@tool\n",
    "def load_dataset() -> str:\n",
    "    \"\"\"Load the dataset into memory\"\"\"\n",
    "    global df\n",
    "    df = pd.read_csv(\"google_play_store_dataset.csv\")\n",
    "    return \"Loaded the dataframe into memory\"\n",
    "\n",
    "@tool\n",
    "def check_amount_of_nulls() -> str:\n",
    "    \"Check how many null values are there in the dataset\"\n",
    "    nan_counts = df.isnull().sum()\n",
    "    nan_percentages = (df.isnull().sum() / len(df)) * 100\n",
    "    \n",
    "    nan_summary = pd.DataFrame({\n",
    "        'Null Count': nan_counts,\n",
    "        'Null Percentage': nan_percentages\n",
    "    })\n",
    "\n",
    "    return nan_summary.to_string()\n",
    "\n",
    "@tool\n",
    "def get_null_rows() -> str:\n",
    "    \"\"\"\n",
    "    Returns rows from the DataFrame where any column has a null value.\n",
    "    The result is returned as a CSV string for easy communication.\n",
    "    \"\"\"\n",
    "    null_rows = df[df.isnull().any(axis=1)]\n",
    "    return null_rows.head(10).to_csv(index=False)\n",
    "\n",
    "@tool\n",
    "def clean_null_values() -> str:\n",
    "    \"Clean the dataset of the null values\"\n",
    "    global df  # Use the global `df`\n",
    "    global df_cleaned\n",
    "    \n",
    "    df['Reviews'] = pd.to_numeric(df['Reviews'], errors='coerce')\n",
    "\n",
    "    #The idea is to take the median rating if it has any reviews. If it doesn't,\n",
    "    #then we just put a 0 as a rating for the app.\n",
    "    median_rating = df[df['Reviews'] > 0]['Rating'].median()\n",
    "    \n",
    "    def fill_rating(row):\n",
    "        if pd.isna(row['Rating']):\n",
    "            if row['Reviews'] == 0:\n",
    "                return 0\n",
    "            else:\n",
    "                return median_rating\n",
    "        else:\n",
    "            return row['Rating']\n",
    "\n",
    "    df['Rating'] = df.apply(fill_rating, axis=1)\n",
    "\n",
    "    # handle the rest of the null values and duplicated values\n",
    "    df.duplicated().sum()\n",
    "    df = df.drop_duplicates()\n",
    "    df = df.dropna()\n",
    "\n",
    "    # we use the auxiliar function to expand the genres into 2.\n",
    "    expand_genres()\n",
    "    \n",
    "    df_cleaned = df.dropna()\n",
    "    \n",
    "    # We define groups where each category lies\n",
    "    category_mapping = {\n",
    "        'SOCIAL': 'HEALTH',\n",
    "        'BEAUTY': 'HEALTH',\n",
    "        'MEDICAL': 'HEALTH',\n",
    "        'HEALTH_AND_FITNESS': 'HEALTH',\n",
    "        'ART_AND_DESIGN': 'ENTERTAINMENT',\n",
    "        'AUTO_AND_VEHICLES': 'ENTERTAINMENT',\n",
    "        'COMICS': 'ENTERTAINMENT',\n",
    "        'ENTERTAINMENT': 'ENTERTAINMENT',\n",
    "        'EVENTS': 'ENTERTAINMENT',\n",
    "        'LIBRARIES_AND_DEMO': 'ENTERTAINMENT',\n",
    "        'MUSIC_AND_AUDIO': 'ENTERTAINMENT',\n",
    "        'VIDEO_PLAYERS': 'ENTERTAINMENT',\n",
    "        'BOOKS_AND_REFERENCE': 'EDUCATION',\n",
    "        'PARENTING': 'EDUCATION',\n",
    "        'EDUCATION': 'EDUCATION',\n",
    "        'BUSINESS': 'BUSINESS',\n",
    "        'FINANCE': 'BUSINESS',\n",
    "        'PRODUCTIVITY': 'BUSINESS',\n",
    "        'DATING': 'LIFESTYLE',\n",
    "        'FOOD_AND_DRINK': 'LIFESTYLE',\n",
    "        'HOUSE_AND_HOME': 'LIFESTYLE',\n",
    "        'LIFESTYLE': 'LIFESTYLE',\n",
    "        'SHOPPING': 'LIFESTYLE',\n",
    "        'PERSONALIZATION': 'LIFESTYLE',\n",
    "        'WEATHER': 'LIFESTYLE',\n",
    "        'TRAVEL_AND_LOCAL': 'LIFESTYLE',\n",
    "        'COMMUNICATION': 'TECHNOLOGY',\n",
    "        'TOOLS': 'TECHNOLOGY',\n",
    "        'NEWS_AND_MAGAZINES': 'TECHNOLOGY',\n",
    "        'MAPS_AND_NAVIGATION': 'TECHNOLOGY',\n",
    "        'FAMILY': 'LIFESTYLE',\n",
    "        'PHOTOGRAPHY': 'ENTERTAINMENT',\n",
    "        'GAME': 'ENTERTAINMENT',\n",
    "        'SPORTS': 'LIFESTYLE'\n",
    "    }\n",
    "    \n",
    "    \n",
    "    # Apply the mapping to the 'Category Name' column\n",
    "    df_cleaned['Category Name'] = df_cleaned['Category'].map(category_mapping).fillna(df_cleaned['Category'])\n",
    "\n",
    "    # we need to clean the data and map it from non-numerical values to numerical ones.\n",
    "    df_cleaned['Category'] = df_cleaned['Category'].astype('category').cat.codes\n",
    "    df_cleaned['Type'] = df_cleaned['Type'].astype('category').cat.codes\n",
    "    df_cleaned['Content Rating'] = df_cleaned['Content Rating'].astype('category').cat.codes\n",
    "    df_cleaned['Genre1'] = df_cleaned['Genre1'].astype('category').cat.codes\n",
    "    df_cleaned['Genre2'] = df_cleaned['Genre2'].astype('category').cat.codes\n",
    "    df_cleaned['Size'] = df_cleaned['Size'].map(clean_size)\n",
    "    df_cleaned['Installs'] = df_cleaned['Installs'].map(clean_installs)\n",
    "    df_cleaned['Last Updated'] = pd.to_datetime(df_cleaned['Last Updated'], errors='coerce')\n",
    "    df_cleaned['Last Updated'] = df_cleaned['Last Updated'].apply(lambda x: x.to_julian_date() if pd.notna(x) else np.nan)\n",
    "    df_cleaned['Price'] = df_cleaned['Price'].map(clean_price)\n",
    "\n",
    "    # the categories will have null values after the conversion of the non numerical values\n",
    "    # so we need to clean it again\n",
    "    category_mean_size = df_cleaned.groupby('Category')['Size'].mean()\n",
    "\n",
    "    def fill_size(row):\n",
    "        if pd.isna(row['Size']):\n",
    "            return category_mean_size[row['Category']]\n",
    "        return row['Size']\n",
    "    \n",
    "    # Apply the function to the DataFrame\n",
    "    df_cleaned['Size'] = df_cleaned.apply(fill_size, axis=1)\n",
    "    return \"Cleaned and normalized all of the Google Play Store dataset\"\n",
    "\n",
    "@tool\n",
    "def get_models_score() -> str:\n",
    "    \"\"\"Executes a series of models to see which ones are better for the dataset and gets the scores of them\"\"\"\n",
    "\n",
    "    global df_cleaned\n",
    "        # We drop columns we believe will not positively affect our models and we select 'Rating' as our y variable\n",
    "    X = df_cleaned.drop(columns=['Rating','Category Name','App','Current Ver','Android Ver'])\n",
    "    y = df_cleaned['Rating']\n",
    "    \n",
    "    # We Split the data\n",
    "    X_train, X_test, y_train, y_test = train_test_split(X, y, test_size=0.2, random_state=42)\n",
    "    \n",
    "    # Define the models\n",
    "    models = {\n",
    "        'Linear Regression': LinearRegression(),\n",
    "        'Ridge Regression': Ridge(),\n",
    "        'Lasso Regression': Lasso(),\n",
    "        'Decision Tree': DecisionTreeRegressor(),\n",
    "        'Random Forest': RandomForestRegressor(),\n",
    "        'Gradient Boosting': GradientBoostingRegressor(),\n",
    "        'Support Vector Regression': SVR(),\n",
    "        'k-Nearest Neighbors': KNeighborsRegressor()\n",
    "    }\n",
    "    \n",
    "    # Train and evaluate each model\n",
    "    results = {}\n",
    "    for name, model in models.items():\n",
    "        model.fit(X_train, y_train)\n",
    "        y_pred = model.predict(X_test)\n",
    "        mse = mean_squared_error(y_test, y_pred)\n",
    "        mae = mean_absolute_error(y_test, y_pred)\n",
    "        r2 = r2_score(y_test, y_pred)\n",
    "        results[name] = {'MSE': mse, 'MAE': mae, 'R2': r2}\n",
    "    \n",
    "    #Finally display the results\n",
    "    results_df = pd.DataFrame(results).T\n",
    "    return results_df.to_string()\n",
    "    "
   ]
  },
  {
   "cell_type": "markdown",
   "id": "eb2202fe-161a-4603-99a2-0dd201937980",
   "metadata": {},
   "source": [
    "# Let us check if the tool calling is being performed\n",
    "\n",
    "What we look for right now is in the output of the messages. We need to find the tool_calls array and see if it actually calls all of the tools that we implemented."
   ]
  },
  {
   "cell_type": "code",
   "execution_count": 190,
   "id": "8589fb09-049e-4561-b68e-da812ca59d9c",
   "metadata": {},
   "outputs": [
    {
     "name": "stdout",
     "output_type": "stream",
     "text": [
      "[HumanMessage(content='Could you load the dataset?', additional_kwargs={}, response_metadata={}), HumanMessage(content='Could you check how many nulls there are in the dataset?', additional_kwargs={}, response_metadata={}), HumanMessage(content='Could you show me some of the null rows?', additional_kwargs={}, response_metadata={}), HumanMessage(content='Could you clean the dataset?', additional_kwargs={}, response_metadata={}), HumanMessage(content='Could you execute the models and get the scores for the dataset?', additional_kwargs={}, response_metadata={}), AIMessage(content='', additional_kwargs={}, response_metadata={'model': 'llama3.1', 'created_at': '2024-12-20T14:59:44.500714393Z', 'done': True, 'done_reason': 'stop', 'total_duration': 6173147323, 'load_duration': 1757671657, 'prompt_eval_count': 381, 'prompt_eval_duration': 475000000, 'eval_count': 81, 'eval_duration': 3204000000, 'message': Message(role='assistant', content='', images=None, tool_calls=None)}, id='run-a58bedea-d230-4ce0-9d3a-0c24eacc03a7-0', tool_calls=[{'name': 'load_dataset', 'args': {}, 'id': '3f0dfc80-350d-4b21-a0cd-2fbbb7b61365', 'type': 'tool_call'}, {'name': 'check_amount_of_nulls', 'args': {}, 'id': 'a56b28cd-030d-44ad-a383-0920eba5cf1c', 'type': 'tool_call'}, {'name': 'get_null_rows', 'args': {}, 'id': 'e793ca15-bad3-485a-84ea-36481c65e32c', 'type': 'tool_call'}, {'name': 'clean_null_values', 'args': {}, 'id': 'c9de5af1-3019-4d54-9b30-9fae950ec077', 'type': 'tool_call'}, {'name': 'get_models_score', 'args': {}, 'id': '934df4dc-b5e8-4c8d-996a-54cd88303f26', 'type': 'tool_call'}], usage_metadata={'input_tokens': 381, 'output_tokens': 81, 'total_tokens': 462})]\n"
     ]
    }
   ],
   "source": [
    "from langchain_core.messages import HumanMessage, ToolMessage\n",
    "\n",
    "tool_mapping = {\n",
    "    \"load_dataset\": load_dataset,\n",
    "    \"check_amount_of_nulls\": check_amount_of_nulls,\n",
    "    \"get_null_rows\": get_null_rows,\n",
    "    \"clean_null_values\": clean_null_values,\n",
    "    \"get_models_score\": get_models_score\n",
    "}\n",
    "\n",
    "messages = [\n",
    "    HumanMessage(\n",
    "        \"Could you load the dataset?\"\n",
    "    ),\n",
    "    HumanMessage(\n",
    "        \"Could you check how many nulls there are in the dataset?\"\n",
    "    ),\n",
    "    HumanMessage(\n",
    "        \"Could you show me some of the null rows?\"\n",
    "    ),\n",
    "    HumanMessage(\n",
    "        \"Could you clean the dataset?\"\n",
    "    ),\n",
    "    HumanMessage(\n",
    "        \"Could you execute the models and get the scores for the dataset?\"\n",
    "    )\n",
    "]\n",
    "\n",
    "llm_output = llm_with_tools.invoke(messages)\n",
    "messages.append(llm_output)\n",
    "print(messages)"
   ]
  },
  {
   "cell_type": "markdown",
   "id": "e932e103-75ad-4c28-9a97-e19c31cc04ab",
   "metadata": {},
   "source": [
    "# Check the tool outputs\n",
    "\n",
    "Now we want to see if the outputs correspond to the tool calls, and we want to specifically see that no execution errors happened."
   ]
  },
  {
   "cell_type": "code",
   "execution_count": 191,
   "id": "17e7b012-7fa3-4215-89e7-a4f87cf3d905",
   "metadata": {
    "scrolled": true
   },
   "outputs": [
    {
     "name": "stdout",
     "output_type": "stream",
     "text": [
      "Tool output: Loaded the dataframe into memory\n",
      "Tool output:                 Null Count  Null Percentage\n",
      "App                      0         0.000000\n",
      "Category                 0         0.000000\n",
      "Rating                1474        13.596532\n",
      "Reviews                  0         0.000000\n",
      "Size                     0         0.000000\n",
      "Installs                 0         0.000000\n",
      "Type                     1         0.009224\n",
      "Price                    0         0.000000\n",
      "Content Rating           1         0.009224\n",
      "Genres                   0         0.000000\n",
      "Last Updated             0         0.000000\n",
      "Current Ver              8         0.073794\n",
      "Android Ver              3         0.027673\n",
      "Tool output: App,Category,Rating,Reviews,Size,Installs,Type,Price,Content Rating,Genres,Last Updated,Current Ver,Android Ver\n",
      "Learn To Draw Kawaii Characters,ART_AND_DESIGN,3.2,55,2.7M,\"5,000+\",Free,0,Everyone,Art & Design,\"June 6, 2018\",,4.2 and up\n",
      "Mcqueen Coloring pages,ART_AND_DESIGN,,61,7.0M,\"100,000+\",Free,0,Everyone,Art & Design;Action & Adventure,\"March 7, 2018\",1.0.0,4.1 and up\n",
      "Wrinkles and rejuvenation,BEAUTY,,182,5.7M,\"100,000+\",Free,0,Everyone 10+,Beauty,\"September 20, 2017\",8.0,3.0 and up\n",
      "Manicure - nail design,BEAUTY,,119,3.7M,\"50,000+\",Free,0,Everyone,Beauty,\"July 23, 2018\",1.3,4.1 and up\n",
      "Skin Care and Natural Beauty,BEAUTY,,654,7.4M,\"100,000+\",Free,0,Teen,Beauty,\"July 17, 2018\",1.15,4.1 and up\n",
      "\"Secrets of beauty, youth and health\",BEAUTY,,77,2.9M,\"10,000+\",Free,0,Mature 17+,Beauty,\"August 8, 2017\",2.0,2.3 and up\n",
      "Recipes and tips for losing weight,BEAUTY,,35,3.1M,\"10,000+\",Free,0,Everyone 10+,Beauty,\"December 11, 2017\",2.0,3.0 and up\n",
      "\"Lady adviser (beauty, health)\",BEAUTY,,30,9.9M,\"10,000+\",Free,0,Mature 17+,Beauty,\"January 24, 2018\",3.0,3.0 and up\n",
      "Anonymous caller detection,BOOKS_AND_REFERENCE,,161,2.7M,\"10,000+\",Free,0,Everyone,Books & Reference,\"July 13, 2018\",1.0,2.3 and up\n",
      "SH-02J Owner's Manual (Android 8.0),BOOKS_AND_REFERENCE,,2,7.2M,\"50,000+\",Free,0,Everyone,Books & Reference,\"June 15, 2018\",3.0,6.0 and up\n",
      "\n",
      "Tool output: Cleaned and normalized all of the Google Play Store dataset\n"
     ]
    },
    {
     "name": "stderr",
     "output_type": "stream",
     "text": [
      "/usr/local/lib/python3.11/dist-packages/sklearn/linear_model/_ridge.py:215: LinAlgWarning: Ill-conditioned matrix (rcond=9.14457e-18): result may not be accurate.\n",
      "  return linalg.solve(A, Xy, assume_a=\"pos\", overwrite_a=True).T\n"
     ]
    },
    {
     "name": "stdout",
     "output_type": "stream",
     "text": [
      "Tool output:                                 MSE       MAE        R2\n",
      "Linear Regression          1.061486  0.632363  0.008835\n",
      "Ridge Regression           1.061485  0.632360  0.008836\n",
      "Lasso Regression           1.057453  0.625214  0.012601\n",
      "Decision Tree              0.373261  0.375604  0.651467\n",
      "Random Forest              0.200927  0.289558  0.812384\n",
      "Gradient Boosting          0.205251  0.300442  0.808346\n",
      "Support Vector Regression  1.110501  0.523760 -0.036933\n",
      "k-Nearest Neighbors        0.836600  0.530155  0.218822\n"
     ]
    },
    {
     "data": {
      "text/plain": [
       "AIMessage(content='The dataset has been loaded into memory.\\n\\nThere are null values in the \\'Type\\' and \\'Content Rating\\' columns, with a total of 2 null values.\\n\\nHere are some of the rows with null values:\\n\\n| App | Category | Rating | Reviews | Size | Installs | Type | Price | Content Rating | Genres | Last Updated | Current Ver | Android Ver |\\n| --- | --- | --- | --- | --- | --- | --- | --- | --- | --- | --- | --- | --- |\\n| Learn To Draw Kawaii Characters | ART_AND_DESIGN | 3.2 | 55 | 2.7M | \"5,000+\" | None | Free | 0 | Everyone | Art & Design | June 6, 2018 | ,4.2 and up |\\n| Mcqueen Coloring pages | ART_AND_DESIGN | None | 61 | 7.0M | \"100,000+\" | None | Free | 0 | Everyone; Action & Adventure | March 7, 2018 | 1.0.0,4.1 and up |\\n\\nThe dataset has been cleaned by removing the null values.\\n\\nThe models have been executed and their scores are as follows:\\n\\n* Linear Regression: MSE = 1.061486, MAE = 0.632363, R2 = 0.008835\\n* Ridge Regression: MSE = 1.061485, MAE = 0.632360, R2 = 0.008836\\n* Lasso Regression: MSE = 1.057453, MAE = 0.625214, R2 = 0.012601\\n* Decision Tree: MSE = 0.373261, MAE = 0.375604, R2 = 0.651467\\n* Random Forest: MSE = 0.200927, MAE = 0.289558, R2 = 0.812384\\n* Gradient Boosting: MSE = 0.205251, MAE = 0.300442, R2 = 0.808346\\n* Support Vector Regression: MSE = 1.110501, MAE = 0.523760, R2 = -0.036933\\n* k-Nearest Neighbors: MSE = 0.836600, MAE = 0.530155, R2 = 0.218822', additional_kwargs={}, response_metadata={'model': 'llama3.1', 'created_at': '2024-12-20T15:00:12.392755015Z', 'done': True, 'done_reason': 'stop', 'total_duration': 22871102847, 'load_duration': 12771811, 'prompt_eval_count': 1083, 'prompt_eval_duration': 1367000000, 'eval_count': 496, 'eval_duration': 21478000000, 'message': Message(role='assistant', content='The dataset has been loaded into memory.\\n\\nThere are null values in the \\'Type\\' and \\'Content Rating\\' columns, with a total of 2 null values.\\n\\nHere are some of the rows with null values:\\n\\n| App | Category | Rating | Reviews | Size | Installs | Type | Price | Content Rating | Genres | Last Updated | Current Ver | Android Ver |\\n| --- | --- | --- | --- | --- | --- | --- | --- | --- | --- | --- | --- | --- |\\n| Learn To Draw Kawaii Characters | ART_AND_DESIGN | 3.2 | 55 | 2.7M | \"5,000+\" | None | Free | 0 | Everyone | Art & Design | June 6, 2018 | ,4.2 and up |\\n| Mcqueen Coloring pages | ART_AND_DESIGN | None | 61 | 7.0M | \"100,000+\" | None | Free | 0 | Everyone; Action & Adventure | March 7, 2018 | 1.0.0,4.1 and up |\\n\\nThe dataset has been cleaned by removing the null values.\\n\\nThe models have been executed and their scores are as follows:\\n\\n* Linear Regression: MSE = 1.061486, MAE = 0.632363, R2 = 0.008835\\n* Ridge Regression: MSE = 1.061485, MAE = 0.632360, R2 = 0.008836\\n* Lasso Regression: MSE = 1.057453, MAE = 0.625214, R2 = 0.012601\\n* Decision Tree: MSE = 0.373261, MAE = 0.375604, R2 = 0.651467\\n* Random Forest: MSE = 0.200927, MAE = 0.289558, R2 = 0.812384\\n* Gradient Boosting: MSE = 0.205251, MAE = 0.300442, R2 = 0.808346\\n* Support Vector Regression: MSE = 1.110501, MAE = 0.523760, R2 = -0.036933\\n* k-Nearest Neighbors: MSE = 0.836600, MAE = 0.530155, R2 = 0.218822', images=None, tool_calls=None)}, id='run-6aae60e3-8d8b-44f6-b00a-12b13723feb3-0', usage_metadata={'input_tokens': 1083, 'output_tokens': 496, 'total_tokens': 1579})"
      ]
     },
     "execution_count": 191,
     "metadata": {},
     "output_type": "execute_result"
    }
   ],
   "source": [
    "for tool_call in llm_output.tool_calls:\n",
    "    tool = tool_mapping[tool_call[\"name\"].lower()]\n",
    "    tool_output = tool.invoke(tool_call[\"args\"])\n",
    "    print(\"Tool output:\", tool_output)\n",
    "    messages.append(ToolMessage(content=tool_output, tool_call_id=tool_call[\"id\"]))\n",
    "\n",
    "llm_with_tools.invoke(messages)"
   ]
  },
  {
   "cell_type": "markdown",
   "id": "27a47026-691a-408f-9976-0872e2f0a357",
   "metadata": {},
   "source": [
    "# Lang Graph creation\n",
    "\n",
    "First of all we will need the Agent State as it will be used by the graph functions.\n",
    "It simply follows the Annotated Sequence BaseMessage schema."
   ]
  },
  {
   "cell_type": "code",
   "execution_count": 192,
   "id": "b70f4651-3c5c-4843-a7b7-1f48457c132e",
   "metadata": {},
   "outputs": [],
   "source": [
    "class AgentState(TypedDict):\n",
    "    messages: Annotated[Sequence[BaseMessage], operator.add]\n",
    "\n",
    "llm_with_tools = model.bind_tools([load_dataset, check_amount_of_nulls, get_null_rows, clean_null_values, get_models_score])"
   ]
  },
  {
   "cell_type": "markdown",
   "id": "dfc7ce1f-9ea5-4b46-9b22-bba015eb19ab",
   "metadata": {},
   "source": [
    "# Definition of the node functions of the graph"
   ]
  },
  {
   "cell_type": "code",
   "execution_count": 193,
   "id": "693f8f4d-50c7-4b9b-9848-bd1970bc4439",
   "metadata": {},
   "outputs": [],
   "source": [
    "from langgraph.graph import StateGraph, END\n",
    "from langgraph.checkpoint.memory import MemorySaver\n",
    "\n",
    "def call_model(state: AgentState):\n",
    "    messages = state[\"messages\"]\n",
    "    response = llm_with_tools.invoke(messages)\n",
    "    return {\"messages\": [response]}\n",
    "\n",
    "\n",
    "def call_tool(state: AgentState):\n",
    "    messages = state[\"messages\"]\n",
    "    last_message = messages[-1]\n",
    "    print(\"Le last message: \", last_message)\n",
    "    tool_call = last_message.tool_calls[0]\n",
    "    tool = tool_mapping[tool_call[\"name\"].lower()]\n",
    "    tool_output = tool.invoke(tool_call[\"args\"])\n",
    "    # print(\"Tool output:\", tool_output)\n",
    "    tool_message = ToolMessage(content=tool_output, tool_call_id=tool_call[\"id\"])\n",
    "    return {\"messages\": [tool_message]}"
   ]
  },
  {
   "cell_type": "markdown",
   "id": "dd12688a-9465-41b4-8e65-862b42d6842a",
   "metadata": {},
   "source": [
    "# Definition of the graph workflow and compilation of it as an \"app\""
   ]
  },
  {
   "cell_type": "code",
   "execution_count": 194,
   "id": "76d63dd1-781f-4314-9fde-acf8d0f93ad7",
   "metadata": {},
   "outputs": [],
   "source": [
    "workflow = StateGraph(AgentState)\n",
    "    \n",
    "# Define nodes\n",
    "workflow.add_node(\"agent\", call_model)\n",
    "workflow.add_node(\"action\", call_tool)\n",
    "\n",
    "# Define edges\n",
    "workflow.set_entry_point(\"agent\")\n",
    "workflow.add_conditional_edges(\n",
    "    \"agent\",\n",
    "    lambda state: \"action\" if state[\"messages\"][-1].tool_calls else END,\n",
    "    {\n",
    "        \"action\": \"action\",\n",
    "        END: END\n",
    "    }\n",
    ")\n",
    "workflow.add_edge(\"action\", \"agent\")\n",
    "\n",
    "app = workflow.compile()"
   ]
  },
  {
   "cell_type": "markdown",
   "id": "50014275-e3f6-4652-b2ac-5224ebd691a4",
   "metadata": {},
   "source": [
    "# Visualize the graph"
   ]
  },
  {
   "cell_type": "code",
   "execution_count": 195,
   "id": "a2d14514-8345-4f63-8ce4-679116cb29db",
   "metadata": {
    "scrolled": true
   },
   "outputs": [
    {
     "data": {
      "image/png": "[encoded data removed]",
      "text/plain": [
       "<IPython.core.display.Image object>"
      ]
     },
     "metadata": {},
     "output_type": "display_data"
    }
   ],
   "source": [
    "from IPython.display import Image, display\n",
    "\n",
    "try:\n",
    "    display(Image(app.get_graph(xray=True).draw_mermaid_png()))\n",
    "except:\n",
    "    pass"
   ]
  },
  {
   "cell_type": "markdown",
   "id": "b4a504fd-7234-49c2-98e8-28412decd84e",
   "metadata": {},
   "source": [
    "# Small test to see that the graph works and it calls the most basic tools."
   ]
  },
  {
   "cell_type": "code",
   "execution_count": 196,
   "id": "5b819e34-ce70-4c3c-bb99-c1dec981832d",
   "metadata": {},
   "outputs": [
    {
     "name": "stdout",
     "output_type": "stream",
     "text": [
      "Le last message:  content='' additional_kwargs={} response_metadata={'model': 'llama3.1', 'created_at': '2024-12-20T15:00:13.87099838Z', 'done': True, 'done_reason': 'stop', 'total_duration': 940869586, 'load_duration': 12515968, 'prompt_eval_count': 357, 'prompt_eval_duration': 329000000, 'eval_count': 16, 'eval_duration': 597000000, 'message': Message(role='assistant', content='', images=None, tool_calls=None)} id='run-53a5e435-4450-4f70-ace4-9aa4a6bc3150-0' tool_calls=[{'name': 'check_amount_of_nulls', 'args': {}, 'id': '2a7f33b6-3d46-403a-8167-cfd535cc53e9', 'type': 'tool_call'}] usage_metadata={'input_tokens': 357, 'output_tokens': 16, 'total_tokens': 373}\n"
     ]
    }
   ],
   "source": [
    "from langchain_core.messages import SystemMessage\n",
    "\n",
    "df = pd.read_csv(\"google_play_store_dataset.csv\")\n",
    "\n",
    "system_message = SystemMessage(\n",
    "    content=\"You are responsible for answering user questions. You use tools for that.\"\n",
    ")\n",
    "human_message = HumanMessage(content=\"How many nulls are there in the dataset?\")\n",
    "messages = [system_message, human_message]\n",
    "\n",
    "result = app.invoke({\"messages\": messages})"
   ]
  },
  {
   "cell_type": "code",
   "execution_count": 197,
   "id": "2d45c75f-847f-4e7c-beef-ea0be3604f24",
   "metadata": {},
   "outputs": [
    {
     "name": "stdout",
     "output_type": "stream",
     "text": [
      "There are 1487 nulls in the dataset.\n"
     ]
    }
   ],
   "source": [
    "print(result[\"messages\"][-1].content)"
   ]
  },
  {
   "cell_type": "markdown",
   "id": "bf8e8e8f-1b0d-42ed-8fce-05e4cbd8f324",
   "metadata": {},
   "source": [
    "# Full fledged test where we simulate a chatbot workflow\n",
    "\n",
    "Here we want to check that a normal chatbot worflow would work properly, but we also want to see that the model interprets the tools responses and it answers the user properly."
   ]
  },
  {
   "cell_type": "code",
   "execution_count": 198,
   "id": "3a835574-69ea-451b-a7e6-7a250bee729a",
   "metadata": {},
   "outputs": [
    {
     "name": "stdout",
     "output_type": "stream",
     "text": [
      "Le last message:  content='' additional_kwargs={} response_metadata={'model': 'llama3.1', 'created_at': '2024-12-20T15:00:15.309754701Z', 'done': True, 'done_reason': 'stop', 'total_duration': 751994433, 'load_duration': 12607903, 'prompt_eval_count': 353, 'prompt_eval_duration': 260000000, 'eval_count': 13, 'eval_duration': 477000000, 'message': Message(role='assistant', content='', images=None, tool_calls=None)} id='run-c751da94-b399-4b12-ad6d-38964d8cb747-0' tool_calls=[{'name': 'load_dataset', 'args': {}, 'id': 'd081aec7-645e-449f-9c8d-4f8be4fbde6f', 'type': 'tool_call'}] usage_metadata={'input_tokens': 353, 'output_tokens': 13, 'total_tokens': 366}\n",
      "ai_message:  content='The dataset has been loaded successfully. It is now available for further analysis and processing.' additional_kwargs={} response_metadata={}\n",
      "Q: Could you load the dataset?\n",
      "A: The dataset has been loaded successfully. It is now available for further analysis and processing.\n",
      "\n",
      "Le last message:  content='' additional_kwargs={} response_metadata={'model': 'llama3.1', 'created_at': '2024-12-20T15:00:17.044857331Z', 'done': True, 'done_reason': 'stop', 'total_duration': 904396818, 'load_duration': 13388547, 'prompt_eval_count': 390, 'prompt_eval_duration': 282000000, 'eval_count': 16, 'eval_duration': 605000000, 'message': Message(role='assistant', content='', images=None, tool_calls=None)} id='run-f4c5366f-6504-43be-a813-e66094dd97fc-0' tool_calls=[{'name': 'check_amount_of_nulls', 'args': {}, 'id': 'e8e25e30-a895-44d9-8371-ae7070a97379', 'type': 'tool_call'}] usage_metadata={'input_tokens': 390, 'output_tokens': 16, 'total_tokens': 406}\n",
      "ai_message:  content=\"There are 1474 null values in the 'Rating' column, and a few other columns have some null values as well.\" additional_kwargs={} response_metadata={}\n",
      "Q: How many nulls are there in the dataset?\n",
      "A: There are 1474 null values in the 'Rating' column, and a few other columns have some null values as well.\n",
      "\n",
      "Le last message:  content='' additional_kwargs={} response_metadata={'model': 'llama3.1', 'created_at': '2024-12-20T15:00:19.153577813Z', 'done': True, 'done_reason': 'stop', 'total_duration': 837358002, 'load_duration': 12840211, 'prompt_eval_count': 436, 'prompt_eval_duration': 296000000, 'eval_count': 14, 'eval_duration': 524000000, 'message': Message(role='assistant', content='', images=None, tool_calls=None)} id='run-71977b0b-ff71-44a9-80c6-79ffcfd26b59-0' tool_calls=[{'name': 'get_null_rows', 'args': {}, 'id': '24df9e1a-640f-4152-9541-7fe5bd9ac736', 'type': 'tool_call'}] usage_metadata={'input_tokens': 436, 'output_tokens': 14, 'total_tokens': 450}\n",
      "ai_message:  content=\"The null rows are:\\n\\n1. Mcqueen Coloring pages (Rating is missing)\\n2. Wrinkles and rejuvenation (Rating is missing)\\n3. Manicure - nail design (Rating is missing)\\n4. Skin Care and Natural Beauty (Rating is missing)\\n5. Secrets of beauty, youth and health (Rating is missing)\\n6. Recipes and tips for losing weight (Rating is missing)\\n7. Lady adviser (beauty, health) (Rating is missing)\\n8. Anonymous caller detection (Rating is missing)\\n9. SH-02J Owner's Manual (Android 8.0) (Reviews is missing)\\n\\nThese rows have null values in the 'Rating' or 'Reviews' columns.\" additional_kwargs={} response_metadata={}\n",
      "Q: Could you show me some of the null rows?\n",
      "A: The null rows are:\n",
      "\n",
      "1. Mcqueen Coloring pages (Rating is missing)\n",
      "2. Wrinkles and rejuvenation (Rating is missing)\n",
      "3. Manicure - nail design (Rating is missing)\n",
      "4. Skin Care and Natural Beauty (Rating is missing)\n",
      "5. Secrets of beauty, youth and health (Rating is missing)\n",
      "6. Recipes and tips for losing weight (Rating is missing)\n",
      "7. Lady adviser (beauty, health) (Rating is missing)\n",
      "8. Anonymous caller detection (Rating is missing)\n",
      "9. SH-02J Owner's Manual (Android 8.0) (Reviews is missing)\n",
      "\n",
      "These rows have null values in the 'Rating' or 'Reviews' columns.\n",
      "\n",
      "Le last message:  content='' additional_kwargs={} response_metadata={'model': 'llama3.1', 'created_at': '2024-12-20T15:00:26.667714322Z', 'done': True, 'done_reason': 'stop', 'total_duration': 959008250, 'load_duration': 12884752, 'prompt_eval_count': 595, 'prompt_eval_duration': 405000000, 'eval_count': 14, 'eval_duration': 534000000, 'message': Message(role='assistant', content='', images=None, tool_calls=None)} id='run-12151831-a57c-4d21-a2dc-f11735ab3130-0' tool_calls=[{'name': 'clean_null_values', 'args': {}, 'id': '53fd1158-0a9e-4741-a3e3-c335313272d0', 'type': 'tool_call'}] usage_metadata={'input_tokens': 595, 'output_tokens': 14, 'total_tokens': 609}\n",
      "ai_message:  content=\"The null values in the 'Rating' column have been replaced with the average rating for that app, and the null values in the 'Reviews' column have been removed. The dataset is now clean and ready for further analysis.\" additional_kwargs={} response_metadata={}\n",
      "Q: Could you clean the dataset?\n",
      "A: The null values in the 'Rating' column have been replaced with the average rating for that app, and the null values in the 'Reviews' column have been removed. The dataset is now clean and ready for further analysis.\n",
      "\n",
      "Le last message:  content='' additional_kwargs={} response_metadata={'model': 'llama3.1', 'created_at': '2024-12-20T15:00:29.719989758Z', 'done': True, 'done_reason': 'stop', 'total_duration': 912081260, 'load_duration': 12211460, 'prompt_eval_count': 663, 'prompt_eval_duration': 354000000, 'eval_count': 14, 'eval_duration': 537000000, 'message': Message(role='assistant', content='', images=None, tool_calls=None)} id='run-58e37a5b-340c-4dce-bd54-2cd7410f4c51-0' tool_calls=[{'name': 'get_models_score', 'args': {}, 'id': '3c249398-9023-4d60-be0c-abe5dacd1c08', 'type': 'tool_call'}] usage_metadata={'input_tokens': 663, 'output_tokens': 14, 'total_tokens': 677}\n"
     ]
    },
    {
     "name": "stderr",
     "output_type": "stream",
     "text": [
      "/usr/local/lib/python3.11/dist-packages/sklearn/linear_model/_ridge.py:215: LinAlgWarning: Ill-conditioned matrix (rcond=9.14457e-18): result may not be accurate.\n",
      "  return linalg.solve(A, Xy, assume_a=\"pos\", overwrite_a=True).T\n"
     ]
    },
    {
     "name": "stdout",
     "output_type": "stream",
     "text": [
      "ai_message:  content='The scores for the dataset have been calculated using various machine learning models. The best performing model is Random Forest with an MSE of 0.198207, MAE of 0.286714, and R2 score of 0.814923.' additional_kwargs={} response_metadata={}\n",
      "Q: Could you execute the models and get the scores for the dataset?\n",
      "A: The scores for the dataset have been calculated using various machine learning models. The best performing model is Random Forest with an MSE of 0.198207, MAE of 0.286714, and R2 score of 0.814923.\n",
      "\n"
     ]
    }
   ],
   "source": [
    "from langchain_core.messages import SystemMessage, HumanMessage, AIMessage\n",
    "\n",
    "# Initialize chat history with a system message\n",
    "chat_history = [\n",
    "    SystemMessage(content=\"You are responsible for answering user questions. You use tools for that.\")\n",
    "]\n",
    "\n",
    "# Function to add a human message, get a response, and handle tool outputs\n",
    "def ask_question(app, question, chat_history):\n",
    "    # Append the user's question as a human message to chat history\n",
    "    human_message = HumanMessage(content=question)\n",
    "    chat_history.append(human_message)\n",
    "    \n",
    "    # Invoke the app with the full chat history to get a response with context\n",
    "    result = app.invoke({\"messages\": chat_history})\n",
    "    \n",
    "    # Extract AI response content, handling empty content by checking tool output\n",
    "    ai_content = result[\"messages\"][-1].content\n",
    "    \n",
    "    ai_message = AIMessage(content=ai_content)\n",
    "    print(\"ai_message: \", ai_message)\n",
    "    chat_history.append(ai_message)\n",
    "    \n",
    "    # Return the response content for display\n",
    "    return ai_content\n",
    "\n",
    "# Example usage with multiple questions\n",
    "questions = [\n",
    "    \"Could you load the dataset?\",\n",
    "    \"How many nulls are there in the dataset?\",\n",
    "    \"Could you show me some of the null rows?\",\n",
    "    \"Could you clean the dataset?\",\n",
    "    \"Could you execute the models and get the scores for the dataset?\"\n",
    "]\n",
    "\n",
    "# Loop through questions to maintain conversation context in `chat_history`\n",
    "for question in questions:\n",
    "    response = ask_question(app, question, chat_history)\n",
    "    print(f\"Q: {question}\\nA: {response}\\n\")\n",
    "\n",
    "### is it possible that i should do a for on this messages array and add it in an orderly manner? similar to the example i saw in a video?\n",
    "### what about a new node called router between agent and action?"
   ]
  },
  {
   "cell_type": "code",
   "execution_count": null,
   "id": "99cf0951-373a-4dc8-a0b8-a0e1e00f60d1",
   "metadata": {},
   "outputs": [],
   "source": []
  },
  {
   "cell_type": "code",
   "execution_count": null,
   "id": "ecbf78bd-8ee2-41bb-ad74-c6e9ac9ede93",
   "metadata": {},
   "outputs": [],
   "source": []
  }
 ],
 "metadata": {
  "kernelspec": {
   "display_name": "Python 3 (ipykernel)",
   "language": "python",
   "name": "python3"
  },
  "language_info": {
   "codemirror_mode": {
    "name": "ipython",
    "version": 3
   },
   "file_extension": ".py",
   "mimetype": "text/x-python",
   "name": "python",
   "nbconvert_exporter": "python",
   "pygments_lexer": "ipython3",
   "version": "3.11.0rc1"
  }
 },
 "nbformat": 4,
 "nbformat_minor": 5
}
